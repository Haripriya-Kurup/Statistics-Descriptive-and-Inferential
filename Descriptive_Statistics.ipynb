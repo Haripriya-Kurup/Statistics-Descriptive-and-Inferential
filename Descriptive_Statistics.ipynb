{
  "nbformat": 4,
  "nbformat_minor": 0,
  "metadata": {
    "colab": {
      "provenance": [],
      "authorship_tag": "ABX9TyPkTW40RR4KRRg6tzzjwQvc",
      "include_colab_link": true
    },
    "kernelspec": {
      "name": "python3",
      "display_name": "Python 3"
    },
    "language_info": {
      "name": "python"
    }
  },
  "cells": [
    {
      "cell_type": "markdown",
      "metadata": {
        "id": "view-in-github",
        "colab_type": "text"
      },
      "source": [
        "<a href=\"https://colab.research.google.com/github/Haripriya-Kurup/Statistics-Descriptive-and-Inferential/blob/main/Descriptive_Statistics.ipynb\" target=\"_parent\"><img src=\"https://colab.research.google.com/assets/colab-badge.svg\" alt=\"Open In Colab\"/></a>"
      ]
    },
    {
      "cell_type": "code",
      "execution_count": null,
      "metadata": {
        "id": "ltPMpGJPFOju"
      },
      "outputs": [],
      "source": []
    },
    {
      "cell_type": "markdown",
      "source": [
        "# Link for  Nutrient Dataset\n",
        "https://online.stat.psu.edu/stat505/lesson/1/1.4#paragraph--329\n",
        "\n",
        "Women's health Survey\n",
        "\n",
        "In 1985, the USDA commissioned a study of women’s nutrition. Nutrient intake was measured for a random sample of 737 women aged 25-50 years. The following variables were measured:\n",
        "\n",
        "Calcium(mg)\n",
        "Iron(mg)\n",
        "Protein(g)\n",
        "Vitamin A(μg)\n",
        "Vitamin C(mg)\n",
        "\n",
        "#Descriptive Statistics\n",
        "\n",
        "We are going to analyse the dataset on  the basis of descriptive statistic functions that wil help in understanding the pattern and behaviour of the data points."
      ],
      "metadata": {
        "id": "Jq3gX480IjK3"
      }
    },
    {
      "cell_type": "code",
      "source": [
        "#Libraries are set of modules that are present in python that help in performong different lebel of activity"
      ],
      "metadata": {
        "id": "8MTkNLbcKibj"
      },
      "execution_count": null,
      "outputs": []
    },
    {
      "cell_type": "markdown",
      "source": [
        "# Libraries are set of modules that are present in python that help in performong different lebel of activity\n",
        "\n",
        "4 libraries are used\n",
        "\n",
        "1. pandas - used to read any type of file which helps in manipulating the dataset.\n",
        "\n",
        "2. numpy:Numerical python deals with array , integer, deima , whole number.Understanding the data points.\n",
        "\n",
        "3, matplotlib : is the visualisation library which is used to create basic graphs\n",
        "4. seaborn library :\n",
        "Data visuliastion library with advanced visuals"
      ],
      "metadata": {
        "id": "u7jXaHCzK7Hl"
      }
    },
    {
      "cell_type": "code",
      "source": [
        "\"\"\"Triple quote used for commenting a paragraph in python code \"\"\""
      ],
      "metadata": {
        "id": "8B-uAz3kI0fo"
      },
      "execution_count": null,
      "outputs": []
    },
    {
      "cell_type": "code",
      "source": [
        "#install the libraries\n",
        "#!pip install pandas"
      ],
      "metadata": {
        "id": "JRKNVJmDML8c"
      },
      "execution_count": null,
      "outputs": []
    },
    {
      "cell_type": "code",
      "source": [
        "# Import all the 4 libraries\n",
        "\n",
        "import pandas as pd\n",
        "import numpy as np\n",
        "import matplotlib.pyplot as plt\n",
        "import seaborn as sns"
      ],
      "metadata": {
        "id": "HYFvwYNdMVBh"
      },
      "execution_count": null,
      "outputs": []
    },
    {
      "cell_type": "code",
      "source": [
        "#Load the dataset\n",
        "data_nutrient = pd.read_csv(\"/content/nutrient.csv\")\n",
        "data_nutrient"
      ],
      "metadata": {
        "colab": {
          "base_uri": "https://localhost:8080/",
          "height": 423
        },
        "id": "sP9gAUkwMwRD",
        "outputId": "129b16f8-c8fa-4d84-83b1-79736eae14e9"
      },
      "execution_count": null,
      "outputs": [
        {
          "output_type": "execute_result",
          "data": {
            "text/plain": [
              "      id  calcium    iron  protein  vitamin A  vitamin C\n",
              "0      1   522.29  10.188   42.561     349.13     54.141\n",
              "1      2   343.32   4.113   67.793     266.99     24.839\n",
              "2      3   858.26  13.741   59.933     667.90    155.455\n",
              "3      4   575.98  13.245   42.215     792.23    224.688\n",
              "4      5  1927.50  18.919  111.316     740.27     80.961\n",
              "..   ...      ...     ...      ...        ...        ...\n",
              "732  937   217.96   6.447   37.294     260.16     23.616\n",
              "733  938   416.19   7.156   36.991     552.76     18.908\n",
              "734  940    93.43   6.484   35.467     264.63     48.105\n",
              "735  941   419.04   7.545   16.894      96.79    320.558\n",
              "736  942  1156.49  17.252   69.045    1087.98    152.650\n",
              "\n",
              "[737 rows x 6 columns]"
            ],
            "text/html": [
              "\n",
              "  <div id=\"df-b24d1510-1f76-4552-8ac9-49afb8cd7e16\" class=\"colab-df-container\">\n",
              "    <div>\n",
              "<style scoped>\n",
              "    .dataframe tbody tr th:only-of-type {\n",
              "        vertical-align: middle;\n",
              "    }\n",
              "\n",
              "    .dataframe tbody tr th {\n",
              "        vertical-align: top;\n",
              "    }\n",
              "\n",
              "    .dataframe thead th {\n",
              "        text-align: right;\n",
              "    }\n",
              "</style>\n",
              "<table border=\"1\" class=\"dataframe\">\n",
              "  <thead>\n",
              "    <tr style=\"text-align: right;\">\n",
              "      <th></th>\n",
              "      <th>id</th>\n",
              "      <th>calcium</th>\n",
              "      <th>iron</th>\n",
              "      <th>protein</th>\n",
              "      <th>vitamin A</th>\n",
              "      <th>vitamin C</th>\n",
              "    </tr>\n",
              "  </thead>\n",
              "  <tbody>\n",
              "    <tr>\n",
              "      <th>0</th>\n",
              "      <td>1</td>\n",
              "      <td>522.29</td>\n",
              "      <td>10.188</td>\n",
              "      <td>42.561</td>\n",
              "      <td>349.13</td>\n",
              "      <td>54.141</td>\n",
              "    </tr>\n",
              "    <tr>\n",
              "      <th>1</th>\n",
              "      <td>2</td>\n",
              "      <td>343.32</td>\n",
              "      <td>4.113</td>\n",
              "      <td>67.793</td>\n",
              "      <td>266.99</td>\n",
              "      <td>24.839</td>\n",
              "    </tr>\n",
              "    <tr>\n",
              "      <th>2</th>\n",
              "      <td>3</td>\n",
              "      <td>858.26</td>\n",
              "      <td>13.741</td>\n",
              "      <td>59.933</td>\n",
              "      <td>667.90</td>\n",
              "      <td>155.455</td>\n",
              "    </tr>\n",
              "    <tr>\n",
              "      <th>3</th>\n",
              "      <td>4</td>\n",
              "      <td>575.98</td>\n",
              "      <td>13.245</td>\n",
              "      <td>42.215</td>\n",
              "      <td>792.23</td>\n",
              "      <td>224.688</td>\n",
              "    </tr>\n",
              "    <tr>\n",
              "      <th>4</th>\n",
              "      <td>5</td>\n",
              "      <td>1927.50</td>\n",
              "      <td>18.919</td>\n",
              "      <td>111.316</td>\n",
              "      <td>740.27</td>\n",
              "      <td>80.961</td>\n",
              "    </tr>\n",
              "    <tr>\n",
              "      <th>...</th>\n",
              "      <td>...</td>\n",
              "      <td>...</td>\n",
              "      <td>...</td>\n",
              "      <td>...</td>\n",
              "      <td>...</td>\n",
              "      <td>...</td>\n",
              "    </tr>\n",
              "    <tr>\n",
              "      <th>732</th>\n",
              "      <td>937</td>\n",
              "      <td>217.96</td>\n",
              "      <td>6.447</td>\n",
              "      <td>37.294</td>\n",
              "      <td>260.16</td>\n",
              "      <td>23.616</td>\n",
              "    </tr>\n",
              "    <tr>\n",
              "      <th>733</th>\n",
              "      <td>938</td>\n",
              "      <td>416.19</td>\n",
              "      <td>7.156</td>\n",
              "      <td>36.991</td>\n",
              "      <td>552.76</td>\n",
              "      <td>18.908</td>\n",
              "    </tr>\n",
              "    <tr>\n",
              "      <th>734</th>\n",
              "      <td>940</td>\n",
              "      <td>93.43</td>\n",
              "      <td>6.484</td>\n",
              "      <td>35.467</td>\n",
              "      <td>264.63</td>\n",
              "      <td>48.105</td>\n",
              "    </tr>\n",
              "    <tr>\n",
              "      <th>735</th>\n",
              "      <td>941</td>\n",
              "      <td>419.04</td>\n",
              "      <td>7.545</td>\n",
              "      <td>16.894</td>\n",
              "      <td>96.79</td>\n",
              "      <td>320.558</td>\n",
              "    </tr>\n",
              "    <tr>\n",
              "      <th>736</th>\n",
              "      <td>942</td>\n",
              "      <td>1156.49</td>\n",
              "      <td>17.252</td>\n",
              "      <td>69.045</td>\n",
              "      <td>1087.98</td>\n",
              "      <td>152.650</td>\n",
              "    </tr>\n",
              "  </tbody>\n",
              "</table>\n",
              "<p>737 rows × 6 columns</p>\n",
              "</div>\n",
              "    <div class=\"colab-df-buttons\">\n",
              "\n",
              "  <div class=\"colab-df-container\">\n",
              "    <button class=\"colab-df-convert\" onclick=\"convertToInteractive('df-b24d1510-1f76-4552-8ac9-49afb8cd7e16')\"\n",
              "            title=\"Convert this dataframe to an interactive table.\"\n",
              "            style=\"display:none;\">\n",
              "\n",
              "  <svg xmlns=\"http://www.w3.org/2000/svg\" height=\"24px\" viewBox=\"0 -960 960 960\">\n",
              "    <path d=\"M120-120v-720h720v720H120Zm60-500h600v-160H180v160Zm220 220h160v-160H400v160Zm0 220h160v-160H400v160ZM180-400h160v-160H180v160Zm440 0h160v-160H620v160ZM180-180h160v-160H180v160Zm440 0h160v-160H620v160Z\"/>\n",
              "  </svg>\n",
              "    </button>\n",
              "\n",
              "  <style>\n",
              "    .colab-df-container {\n",
              "      display:flex;\n",
              "      gap: 12px;\n",
              "    }\n",
              "\n",
              "    .colab-df-convert {\n",
              "      background-color: #E8F0FE;\n",
              "      border: none;\n",
              "      border-radius: 50%;\n",
              "      cursor: pointer;\n",
              "      display: none;\n",
              "      fill: #1967D2;\n",
              "      height: 32px;\n",
              "      padding: 0 0 0 0;\n",
              "      width: 32px;\n",
              "    }\n",
              "\n",
              "    .colab-df-convert:hover {\n",
              "      background-color: #E2EBFA;\n",
              "      box-shadow: 0px 1px 2px rgba(60, 64, 67, 0.3), 0px 1px 3px 1px rgba(60, 64, 67, 0.15);\n",
              "      fill: #174EA6;\n",
              "    }\n",
              "\n",
              "    .colab-df-buttons div {\n",
              "      margin-bottom: 4px;\n",
              "    }\n",
              "\n",
              "    [theme=dark] .colab-df-convert {\n",
              "      background-color: #3B4455;\n",
              "      fill: #D2E3FC;\n",
              "    }\n",
              "\n",
              "    [theme=dark] .colab-df-convert:hover {\n",
              "      background-color: #434B5C;\n",
              "      box-shadow: 0px 1px 3px 1px rgba(0, 0, 0, 0.15);\n",
              "      filter: drop-shadow(0px 1px 2px rgba(0, 0, 0, 0.3));\n",
              "      fill: #FFFFFF;\n",
              "    }\n",
              "  </style>\n",
              "\n",
              "    <script>\n",
              "      const buttonEl =\n",
              "        document.querySelector('#df-b24d1510-1f76-4552-8ac9-49afb8cd7e16 button.colab-df-convert');\n",
              "      buttonEl.style.display =\n",
              "        google.colab.kernel.accessAllowed ? 'block' : 'none';\n",
              "\n",
              "      async function convertToInteractive(key) {\n",
              "        const element = document.querySelector('#df-b24d1510-1f76-4552-8ac9-49afb8cd7e16');\n",
              "        const dataTable =\n",
              "          await google.colab.kernel.invokeFunction('convertToInteractive',\n",
              "                                                    [key], {});\n",
              "        if (!dataTable) return;\n",
              "\n",
              "        const docLinkHtml = 'Like what you see? Visit the ' +\n",
              "          '<a target=\"_blank\" href=https://colab.research.google.com/notebooks/data_table.ipynb>data table notebook</a>'\n",
              "          + ' to learn more about interactive tables.';\n",
              "        element.innerHTML = '';\n",
              "        dataTable['output_type'] = 'display_data';\n",
              "        await google.colab.output.renderOutput(dataTable, element);\n",
              "        const docLink = document.createElement('div');\n",
              "        docLink.innerHTML = docLinkHtml;\n",
              "        element.appendChild(docLink);\n",
              "      }\n",
              "    </script>\n",
              "  </div>\n",
              "\n",
              "\n",
              "<div id=\"df-c5ff22cc-f6e7-4804-85ae-e30951f797da\">\n",
              "  <button class=\"colab-df-quickchart\" onclick=\"quickchart('df-c5ff22cc-f6e7-4804-85ae-e30951f797da')\"\n",
              "            title=\"Suggest charts\"\n",
              "            style=\"display:none;\">\n",
              "\n",
              "<svg xmlns=\"http://www.w3.org/2000/svg\" height=\"24px\"viewBox=\"0 0 24 24\"\n",
              "     width=\"24px\">\n",
              "    <g>\n",
              "        <path d=\"M19 3H5c-1.1 0-2 .9-2 2v14c0 1.1.9 2 2 2h14c1.1 0 2-.9 2-2V5c0-1.1-.9-2-2-2zM9 17H7v-7h2v7zm4 0h-2V7h2v10zm4 0h-2v-4h2v4z\"/>\n",
              "    </g>\n",
              "</svg>\n",
              "  </button>\n",
              "\n",
              "<style>\n",
              "  .colab-df-quickchart {\n",
              "      --bg-color: #E8F0FE;\n",
              "      --fill-color: #1967D2;\n",
              "      --hover-bg-color: #E2EBFA;\n",
              "      --hover-fill-color: #174EA6;\n",
              "      --disabled-fill-color: #AAA;\n",
              "      --disabled-bg-color: #DDD;\n",
              "  }\n",
              "\n",
              "  [theme=dark] .colab-df-quickchart {\n",
              "      --bg-color: #3B4455;\n",
              "      --fill-color: #D2E3FC;\n",
              "      --hover-bg-color: #434B5C;\n",
              "      --hover-fill-color: #FFFFFF;\n",
              "      --disabled-bg-color: #3B4455;\n",
              "      --disabled-fill-color: #666;\n",
              "  }\n",
              "\n",
              "  .colab-df-quickchart {\n",
              "    background-color: var(--bg-color);\n",
              "    border: none;\n",
              "    border-radius: 50%;\n",
              "    cursor: pointer;\n",
              "    display: none;\n",
              "    fill: var(--fill-color);\n",
              "    height: 32px;\n",
              "    padding: 0;\n",
              "    width: 32px;\n",
              "  }\n",
              "\n",
              "  .colab-df-quickchart:hover {\n",
              "    background-color: var(--hover-bg-color);\n",
              "    box-shadow: 0 1px 2px rgba(60, 64, 67, 0.3), 0 1px 3px 1px rgba(60, 64, 67, 0.15);\n",
              "    fill: var(--button-hover-fill-color);\n",
              "  }\n",
              "\n",
              "  .colab-df-quickchart-complete:disabled,\n",
              "  .colab-df-quickchart-complete:disabled:hover {\n",
              "    background-color: var(--disabled-bg-color);\n",
              "    fill: var(--disabled-fill-color);\n",
              "    box-shadow: none;\n",
              "  }\n",
              "\n",
              "  .colab-df-spinner {\n",
              "    border: 2px solid var(--fill-color);\n",
              "    border-color: transparent;\n",
              "    border-bottom-color: var(--fill-color);\n",
              "    animation:\n",
              "      spin 1s steps(1) infinite;\n",
              "  }\n",
              "\n",
              "  @keyframes spin {\n",
              "    0% {\n",
              "      border-color: transparent;\n",
              "      border-bottom-color: var(--fill-color);\n",
              "      border-left-color: var(--fill-color);\n",
              "    }\n",
              "    20% {\n",
              "      border-color: transparent;\n",
              "      border-left-color: var(--fill-color);\n",
              "      border-top-color: var(--fill-color);\n",
              "    }\n",
              "    30% {\n",
              "      border-color: transparent;\n",
              "      border-left-color: var(--fill-color);\n",
              "      border-top-color: var(--fill-color);\n",
              "      border-right-color: var(--fill-color);\n",
              "    }\n",
              "    40% {\n",
              "      border-color: transparent;\n",
              "      border-right-color: var(--fill-color);\n",
              "      border-top-color: var(--fill-color);\n",
              "    }\n",
              "    60% {\n",
              "      border-color: transparent;\n",
              "      border-right-color: var(--fill-color);\n",
              "    }\n",
              "    80% {\n",
              "      border-color: transparent;\n",
              "      border-right-color: var(--fill-color);\n",
              "      border-bottom-color: var(--fill-color);\n",
              "    }\n",
              "    90% {\n",
              "      border-color: transparent;\n",
              "      border-bottom-color: var(--fill-color);\n",
              "    }\n",
              "  }\n",
              "</style>\n",
              "\n",
              "  <script>\n",
              "    async function quickchart(key) {\n",
              "      const quickchartButtonEl =\n",
              "        document.querySelector('#' + key + ' button');\n",
              "      quickchartButtonEl.disabled = true;  // To prevent multiple clicks.\n",
              "      quickchartButtonEl.classList.add('colab-df-spinner');\n",
              "      try {\n",
              "        const charts = await google.colab.kernel.invokeFunction(\n",
              "            'suggestCharts', [key], {});\n",
              "      } catch (error) {\n",
              "        console.error('Error during call to suggestCharts:', error);\n",
              "      }\n",
              "      quickchartButtonEl.classList.remove('colab-df-spinner');\n",
              "      quickchartButtonEl.classList.add('colab-df-quickchart-complete');\n",
              "    }\n",
              "    (() => {\n",
              "      let quickchartButtonEl =\n",
              "        document.querySelector('#df-c5ff22cc-f6e7-4804-85ae-e30951f797da button');\n",
              "      quickchartButtonEl.style.display =\n",
              "        google.colab.kernel.accessAllowed ? 'block' : 'none';\n",
              "    })();\n",
              "  </script>\n",
              "</div>\n",
              "    </div>\n",
              "  </div>\n"
            ],
            "application/vnd.google.colaboratory.intrinsic+json": {
              "type": "dataframe",
              "variable_name": "data_nutrient",
              "summary": "{\n  \"name\": \"data_nutrient\",\n  \"rows\": 737,\n  \"fields\": [\n    {\n      \"column\": \"id\",\n      \"properties\": {\n        \"dtype\": \"number\",\n        \"std\": 274,\n        \"min\": 1,\n        \"max\": 942,\n        \"num_unique_values\": 737,\n        \"samples\": [\n          853,\n          37,\n          692\n        ],\n        \"semantic_type\": \"\",\n        \"description\": \"\"\n      }\n    },\n    {\n      \"column\": \"calcium\",\n      \"properties\": {\n        \"dtype\": \"number\",\n        \"std\": 397.27754010326595,\n        \"min\": 7.44,\n        \"max\": 2866.44,\n        \"num_unique_values\": 737,\n        \"samples\": [\n          362.87,\n          574.12,\n          291.52\n        ],\n        \"semantic_type\": \"\",\n        \"description\": \"\"\n      }\n    },\n    {\n      \"column\": \"iron\",\n      \"properties\": {\n        \"dtype\": \"number\",\n        \"std\": 5.9841904700883335,\n        \"min\": 0.0,\n        \"max\": 58.668,\n        \"num_unique_values\": 719,\n        \"samples\": [\n          8.311,\n          9.456,\n          18.091\n        ],\n        \"semantic_type\": \"\",\n        \"description\": \"\"\n      }\n    },\n    {\n      \"column\": \"protein\",\n      \"properties\": {\n        \"dtype\": \"number\",\n        \"std\": 30.575756431408685,\n        \"min\": 0.0,\n        \"max\": 251.012,\n        \"num_unique_values\": 735,\n        \"samples\": [\n          37.078,\n          52.544,\n          120.149\n        ],\n        \"semantic_type\": \"\",\n        \"description\": \"\"\n      }\n    },\n    {\n      \"column\": \"vitamin A\",\n      \"properties\": {\n        \"dtype\": \"number\",\n        \"std\": 1633.539828300056,\n        \"min\": 0.0,\n        \"max\": 34434.27,\n        \"num_unique_values\": 733,\n        \"samples\": [\n          990.48,\n          801.05,\n          73.21\n        ],\n        \"semantic_type\": \"\",\n        \"description\": \"\"\n      }\n    },\n    {\n      \"column\": \"vitamin C\",\n      \"properties\": {\n        \"dtype\": \"number\",\n        \"std\": 73.59527211823996,\n        \"min\": 0.0,\n        \"max\": 433.339,\n        \"num_unique_values\": 733,\n        \"samples\": [\n          41.077,\n          40.69,\n          79.886\n        ],\n        \"semantic_type\": \"\",\n        \"description\": \"\"\n      }\n    }\n  ]\n}"
            }
          },
          "metadata": {},
          "execution_count": 4
        }
      ]
    },
    {
      "cell_type": "code",
      "source": [
        "# to get the first 5 rows\n",
        "\n",
        "data_nutrient.head()\n",
        "data_nutrient.head(10)\n"
      ],
      "metadata": {
        "id": "m1IcA73NPMhk"
      },
      "execution_count": null,
      "outputs": []
    },
    {
      "cell_type": "code",
      "source": [
        "data_nutrient.tail()"
      ],
      "metadata": {
        "colab": {
          "base_uri": "https://localhost:8080/",
          "height": 206
        },
        "id": "awxi7kbsPsW_",
        "outputId": "a6793a43-1891-4133-d363-7ca515014d4a"
      },
      "execution_count": null,
      "outputs": [
        {
          "output_type": "execute_result",
          "data": {
            "text/plain": [
              "      id  calcium    iron  protein  vitamin A  vitamin C\n",
              "732  937   217.96   6.447   37.294     260.16     23.616\n",
              "733  938   416.19   7.156   36.991     552.76     18.908\n",
              "734  940    93.43   6.484   35.467     264.63     48.105\n",
              "735  941   419.04   7.545   16.894      96.79    320.558\n",
              "736  942  1156.49  17.252   69.045    1087.98    152.650"
            ],
            "text/html": [
              "\n",
              "  <div id=\"df-ecf9c6ca-13fb-4884-b1a3-ab373d62dc86\" class=\"colab-df-container\">\n",
              "    <div>\n",
              "<style scoped>\n",
              "    .dataframe tbody tr th:only-of-type {\n",
              "        vertical-align: middle;\n",
              "    }\n",
              "\n",
              "    .dataframe tbody tr th {\n",
              "        vertical-align: top;\n",
              "    }\n",
              "\n",
              "    .dataframe thead th {\n",
              "        text-align: right;\n",
              "    }\n",
              "</style>\n",
              "<table border=\"1\" class=\"dataframe\">\n",
              "  <thead>\n",
              "    <tr style=\"text-align: right;\">\n",
              "      <th></th>\n",
              "      <th>id</th>\n",
              "      <th>calcium</th>\n",
              "      <th>iron</th>\n",
              "      <th>protein</th>\n",
              "      <th>vitamin A</th>\n",
              "      <th>vitamin C</th>\n",
              "    </tr>\n",
              "  </thead>\n",
              "  <tbody>\n",
              "    <tr>\n",
              "      <th>732</th>\n",
              "      <td>937</td>\n",
              "      <td>217.96</td>\n",
              "      <td>6.447</td>\n",
              "      <td>37.294</td>\n",
              "      <td>260.16</td>\n",
              "      <td>23.616</td>\n",
              "    </tr>\n",
              "    <tr>\n",
              "      <th>733</th>\n",
              "      <td>938</td>\n",
              "      <td>416.19</td>\n",
              "      <td>7.156</td>\n",
              "      <td>36.991</td>\n",
              "      <td>552.76</td>\n",
              "      <td>18.908</td>\n",
              "    </tr>\n",
              "    <tr>\n",
              "      <th>734</th>\n",
              "      <td>940</td>\n",
              "      <td>93.43</td>\n",
              "      <td>6.484</td>\n",
              "      <td>35.467</td>\n",
              "      <td>264.63</td>\n",
              "      <td>48.105</td>\n",
              "    </tr>\n",
              "    <tr>\n",
              "      <th>735</th>\n",
              "      <td>941</td>\n",
              "      <td>419.04</td>\n",
              "      <td>7.545</td>\n",
              "      <td>16.894</td>\n",
              "      <td>96.79</td>\n",
              "      <td>320.558</td>\n",
              "    </tr>\n",
              "    <tr>\n",
              "      <th>736</th>\n",
              "      <td>942</td>\n",
              "      <td>1156.49</td>\n",
              "      <td>17.252</td>\n",
              "      <td>69.045</td>\n",
              "      <td>1087.98</td>\n",
              "      <td>152.650</td>\n",
              "    </tr>\n",
              "  </tbody>\n",
              "</table>\n",
              "</div>\n",
              "    <div class=\"colab-df-buttons\">\n",
              "\n",
              "  <div class=\"colab-df-container\">\n",
              "    <button class=\"colab-df-convert\" onclick=\"convertToInteractive('df-ecf9c6ca-13fb-4884-b1a3-ab373d62dc86')\"\n",
              "            title=\"Convert this dataframe to an interactive table.\"\n",
              "            style=\"display:none;\">\n",
              "\n",
              "  <svg xmlns=\"http://www.w3.org/2000/svg\" height=\"24px\" viewBox=\"0 -960 960 960\">\n",
              "    <path d=\"M120-120v-720h720v720H120Zm60-500h600v-160H180v160Zm220 220h160v-160H400v160Zm0 220h160v-160H400v160ZM180-400h160v-160H180v160Zm440 0h160v-160H620v160ZM180-180h160v-160H180v160Zm440 0h160v-160H620v160Z\"/>\n",
              "  </svg>\n",
              "    </button>\n",
              "\n",
              "  <style>\n",
              "    .colab-df-container {\n",
              "      display:flex;\n",
              "      gap: 12px;\n",
              "    }\n",
              "\n",
              "    .colab-df-convert {\n",
              "      background-color: #E8F0FE;\n",
              "      border: none;\n",
              "      border-radius: 50%;\n",
              "      cursor: pointer;\n",
              "      display: none;\n",
              "      fill: #1967D2;\n",
              "      height: 32px;\n",
              "      padding: 0 0 0 0;\n",
              "      width: 32px;\n",
              "    }\n",
              "\n",
              "    .colab-df-convert:hover {\n",
              "      background-color: #E2EBFA;\n",
              "      box-shadow: 0px 1px 2px rgba(60, 64, 67, 0.3), 0px 1px 3px 1px rgba(60, 64, 67, 0.15);\n",
              "      fill: #174EA6;\n",
              "    }\n",
              "\n",
              "    .colab-df-buttons div {\n",
              "      margin-bottom: 4px;\n",
              "    }\n",
              "\n",
              "    [theme=dark] .colab-df-convert {\n",
              "      background-color: #3B4455;\n",
              "      fill: #D2E3FC;\n",
              "    }\n",
              "\n",
              "    [theme=dark] .colab-df-convert:hover {\n",
              "      background-color: #434B5C;\n",
              "      box-shadow: 0px 1px 3px 1px rgba(0, 0, 0, 0.15);\n",
              "      filter: drop-shadow(0px 1px 2px rgba(0, 0, 0, 0.3));\n",
              "      fill: #FFFFFF;\n",
              "    }\n",
              "  </style>\n",
              "\n",
              "    <script>\n",
              "      const buttonEl =\n",
              "        document.querySelector('#df-ecf9c6ca-13fb-4884-b1a3-ab373d62dc86 button.colab-df-convert');\n",
              "      buttonEl.style.display =\n",
              "        google.colab.kernel.accessAllowed ? 'block' : 'none';\n",
              "\n",
              "      async function convertToInteractive(key) {\n",
              "        const element = document.querySelector('#df-ecf9c6ca-13fb-4884-b1a3-ab373d62dc86');\n",
              "        const dataTable =\n",
              "          await google.colab.kernel.invokeFunction('convertToInteractive',\n",
              "                                                    [key], {});\n",
              "        if (!dataTable) return;\n",
              "\n",
              "        const docLinkHtml = 'Like what you see? Visit the ' +\n",
              "          '<a target=\"_blank\" href=https://colab.research.google.com/notebooks/data_table.ipynb>data table notebook</a>'\n",
              "          + ' to learn more about interactive tables.';\n",
              "        element.innerHTML = '';\n",
              "        dataTable['output_type'] = 'display_data';\n",
              "        await google.colab.output.renderOutput(dataTable, element);\n",
              "        const docLink = document.createElement('div');\n",
              "        docLink.innerHTML = docLinkHtml;\n",
              "        element.appendChild(docLink);\n",
              "      }\n",
              "    </script>\n",
              "  </div>\n",
              "\n",
              "\n",
              "<div id=\"df-97b97aad-7b36-4480-b693-dc237e1f20b4\">\n",
              "  <button class=\"colab-df-quickchart\" onclick=\"quickchart('df-97b97aad-7b36-4480-b693-dc237e1f20b4')\"\n",
              "            title=\"Suggest charts\"\n",
              "            style=\"display:none;\">\n",
              "\n",
              "<svg xmlns=\"http://www.w3.org/2000/svg\" height=\"24px\"viewBox=\"0 0 24 24\"\n",
              "     width=\"24px\">\n",
              "    <g>\n",
              "        <path d=\"M19 3H5c-1.1 0-2 .9-2 2v14c0 1.1.9 2 2 2h14c1.1 0 2-.9 2-2V5c0-1.1-.9-2-2-2zM9 17H7v-7h2v7zm4 0h-2V7h2v10zm4 0h-2v-4h2v4z\"/>\n",
              "    </g>\n",
              "</svg>\n",
              "  </button>\n",
              "\n",
              "<style>\n",
              "  .colab-df-quickchart {\n",
              "      --bg-color: #E8F0FE;\n",
              "      --fill-color: #1967D2;\n",
              "      --hover-bg-color: #E2EBFA;\n",
              "      --hover-fill-color: #174EA6;\n",
              "      --disabled-fill-color: #AAA;\n",
              "      --disabled-bg-color: #DDD;\n",
              "  }\n",
              "\n",
              "  [theme=dark] .colab-df-quickchart {\n",
              "      --bg-color: #3B4455;\n",
              "      --fill-color: #D2E3FC;\n",
              "      --hover-bg-color: #434B5C;\n",
              "      --hover-fill-color: #FFFFFF;\n",
              "      --disabled-bg-color: #3B4455;\n",
              "      --disabled-fill-color: #666;\n",
              "  }\n",
              "\n",
              "  .colab-df-quickchart {\n",
              "    background-color: var(--bg-color);\n",
              "    border: none;\n",
              "    border-radius: 50%;\n",
              "    cursor: pointer;\n",
              "    display: none;\n",
              "    fill: var(--fill-color);\n",
              "    height: 32px;\n",
              "    padding: 0;\n",
              "    width: 32px;\n",
              "  }\n",
              "\n",
              "  .colab-df-quickchart:hover {\n",
              "    background-color: var(--hover-bg-color);\n",
              "    box-shadow: 0 1px 2px rgba(60, 64, 67, 0.3), 0 1px 3px 1px rgba(60, 64, 67, 0.15);\n",
              "    fill: var(--button-hover-fill-color);\n",
              "  }\n",
              "\n",
              "  .colab-df-quickchart-complete:disabled,\n",
              "  .colab-df-quickchart-complete:disabled:hover {\n",
              "    background-color: var(--disabled-bg-color);\n",
              "    fill: var(--disabled-fill-color);\n",
              "    box-shadow: none;\n",
              "  }\n",
              "\n",
              "  .colab-df-spinner {\n",
              "    border: 2px solid var(--fill-color);\n",
              "    border-color: transparent;\n",
              "    border-bottom-color: var(--fill-color);\n",
              "    animation:\n",
              "      spin 1s steps(1) infinite;\n",
              "  }\n",
              "\n",
              "  @keyframes spin {\n",
              "    0% {\n",
              "      border-color: transparent;\n",
              "      border-bottom-color: var(--fill-color);\n",
              "      border-left-color: var(--fill-color);\n",
              "    }\n",
              "    20% {\n",
              "      border-color: transparent;\n",
              "      border-left-color: var(--fill-color);\n",
              "      border-top-color: var(--fill-color);\n",
              "    }\n",
              "    30% {\n",
              "      border-color: transparent;\n",
              "      border-left-color: var(--fill-color);\n",
              "      border-top-color: var(--fill-color);\n",
              "      border-right-color: var(--fill-color);\n",
              "    }\n",
              "    40% {\n",
              "      border-color: transparent;\n",
              "      border-right-color: var(--fill-color);\n",
              "      border-top-color: var(--fill-color);\n",
              "    }\n",
              "    60% {\n",
              "      border-color: transparent;\n",
              "      border-right-color: var(--fill-color);\n",
              "    }\n",
              "    80% {\n",
              "      border-color: transparent;\n",
              "      border-right-color: var(--fill-color);\n",
              "      border-bottom-color: var(--fill-color);\n",
              "    }\n",
              "    90% {\n",
              "      border-color: transparent;\n",
              "      border-bottom-color: var(--fill-color);\n",
              "    }\n",
              "  }\n",
              "</style>\n",
              "\n",
              "  <script>\n",
              "    async function quickchart(key) {\n",
              "      const quickchartButtonEl =\n",
              "        document.querySelector('#' + key + ' button');\n",
              "      quickchartButtonEl.disabled = true;  // To prevent multiple clicks.\n",
              "      quickchartButtonEl.classList.add('colab-df-spinner');\n",
              "      try {\n",
              "        const charts = await google.colab.kernel.invokeFunction(\n",
              "            'suggestCharts', [key], {});\n",
              "      } catch (error) {\n",
              "        console.error('Error during call to suggestCharts:', error);\n",
              "      }\n",
              "      quickchartButtonEl.classList.remove('colab-df-spinner');\n",
              "      quickchartButtonEl.classList.add('colab-df-quickchart-complete');\n",
              "    }\n",
              "    (() => {\n",
              "      let quickchartButtonEl =\n",
              "        document.querySelector('#df-97b97aad-7b36-4480-b693-dc237e1f20b4 button');\n",
              "      quickchartButtonEl.style.display =\n",
              "        google.colab.kernel.accessAllowed ? 'block' : 'none';\n",
              "    })();\n",
              "  </script>\n",
              "</div>\n",
              "    </div>\n",
              "  </div>\n"
            ],
            "application/vnd.google.colaboratory.intrinsic+json": {
              "type": "dataframe",
              "summary": "{\n  \"name\": \"data_nutrient\",\n  \"rows\": 5,\n  \"fields\": [\n    {\n      \"column\": \"id\",\n      \"properties\": {\n        \"dtype\": \"number\",\n        \"std\": 2,\n        \"min\": 937,\n        \"max\": 942,\n        \"num_unique_values\": 5,\n        \"samples\": [\n          938,\n          942,\n          940\n        ],\n        \"semantic_type\": \"\",\n        \"description\": \"\"\n      }\n    },\n    {\n      \"column\": \"calcium\",\n      \"properties\": {\n        \"dtype\": \"number\",\n        \"std\": 412.8105951523047,\n        \"min\": 93.43,\n        \"max\": 1156.49,\n        \"num_unique_values\": 5,\n        \"samples\": [\n          416.19,\n          1156.49,\n          93.43\n        ],\n        \"semantic_type\": \"\",\n        \"description\": \"\"\n      }\n    },\n    {\n      \"column\": \"iron\",\n      \"properties\": {\n        \"dtype\": \"number\",\n        \"std\": 4.649146125903121,\n        \"min\": 6.447,\n        \"max\": 17.252,\n        \"num_unique_values\": 5,\n        \"samples\": [\n          7.156,\n          17.252,\n          6.484\n        ],\n        \"semantic_type\": \"\",\n        \"description\": \"\"\n      }\n    },\n    {\n      \"column\": \"protein\",\n      \"properties\": {\n        \"dtype\": \"number\",\n        \"std\": 18.779712263503935,\n        \"min\": 16.894,\n        \"max\": 69.045,\n        \"num_unique_values\": 5,\n        \"samples\": [\n          36.991,\n          69.045,\n          35.467\n        ],\n        \"semantic_type\": \"\",\n        \"description\": \"\"\n      }\n    },\n    {\n      \"column\": \"vitamin A\",\n      \"properties\": {\n        \"dtype\": \"number\",\n        \"std\": 391.37779322542053,\n        \"min\": 96.79,\n        \"max\": 1087.98,\n        \"num_unique_values\": 5,\n        \"samples\": [\n          552.76,\n          1087.98,\n          264.63\n        ],\n        \"semantic_type\": \"\",\n        \"description\": \"\"\n      }\n    },\n    {\n      \"column\": \"vitamin C\",\n      \"properties\": {\n        \"dtype\": \"number\",\n        \"std\": 128.16623999244106,\n        \"min\": 18.908,\n        \"max\": 320.558,\n        \"num_unique_values\": 5,\n        \"samples\": [\n          18.908,\n          152.65,\n          48.105\n        ],\n        \"semantic_type\": \"\",\n        \"description\": \"\"\n      }\n    }\n  ]\n}"
            }
          },
          "metadata": {},
          "execution_count": 11
        }
      ]
    },
    {
      "cell_type": "code",
      "source": [
        "#To list the columns in a dataset\n",
        "print(\"The columns in the datset are :\")\n",
        "print(data_nutrient.columns)\n",
        "\n",
        "\n",
        "\n",
        "print(\"\\nThe datatypes of the columns   \")\n",
        "data_nutrient.dtypes"
      ],
      "metadata": {
        "colab": {
          "base_uri": "https://localhost:8080/"
        },
        "id": "HfKuNcD7RS7-",
        "outputId": "3c482d1f-7d9f-46a0-9884-7950e031da62"
      },
      "execution_count": null,
      "outputs": [
        {
          "output_type": "stream",
          "name": "stdout",
          "text": [
            "The columns in the datset are :\n",
            "Index(['id', 'calcium', 'iron', 'protein', 'vitamin A', 'vitamin C'], dtype='object')\n",
            "\n",
            "The datatypes of the columns   \n"
          ]
        },
        {
          "output_type": "execute_result",
          "data": {
            "text/plain": [
              "id             int64\n",
              "calcium      float64\n",
              "iron         float64\n",
              "protein      float64\n",
              "vitamin A    float64\n",
              "vitamin C    float64\n",
              "dtype: object"
            ]
          },
          "metadata": {},
          "execution_count": 12
        }
      ]
    },
    {
      "cell_type": "code",
      "source": [
        "\n",
        "#CLEANING THE DATASET IS NOT DONE HERE YET !! SO DONT UOSE THE DESCRIBE FUNCTION YET\n",
        "#Statistcal summary\n",
        "\n",
        "data_nutrient['calcium'].describe()"
      ],
      "metadata": {
        "colab": {
          "base_uri": "https://localhost:8080/"
        },
        "id": "0FHoG_vBRm2j",
        "outputId": "164a4b13-57e9-40ba-b050-49faf7d04ecc"
      },
      "execution_count": null,
      "outputs": [
        {
          "output_type": "execute_result",
          "data": {
            "text/plain": [
              "count     737.000000\n",
              "mean      624.049254\n",
              "std       397.277540\n",
              "min         7.440000\n",
              "25%       326.540000\n",
              "50%       548.290000\n",
              "75%       826.510000\n",
              "max      2866.440000\n",
              "Name: calcium, dtype: float64"
            ]
          },
          "metadata": {},
          "execution_count": 6
        }
      ]
    },
    {
      "cell_type": "markdown",
      "source": [
        "# What are Percentiles?\n",
        "Percentiles are used in statistics to give you a number that describes the value that a given percent of the values are lower than.\n",
        "\n",
        "It can be\n",
        "25 %\n",
        "50%\n",
        "75%\n",
        "90%\n",
        "Syntax : np.percentile(df['column'],90)\n"
      ],
      "metadata": {
        "id": "cqo5lWva71C6"
      }
    },
    {
      "cell_type": "code",
      "source": [
        "calcium = data_nutrient['calcium']\n",
        "percent_75 = np.percentile(calcium,75)\n",
        "print(percent_75)"
      ],
      "metadata": {
        "colab": {
          "base_uri": "https://localhost:8080/"
        },
        "id": "KxePx2fk7nzW",
        "outputId": "ec8c96e8-ed49-41a3-9581-fb1cbf7ff286"
      },
      "execution_count": null,
      "outputs": [
        {
          "output_type": "stream",
          "name": "stdout",
          "text": [
            "826.51\n"
          ]
        }
      ]
    },
    {
      "cell_type": "markdown",
      "source": [
        "The answer here is 826.51 , meaning that 75% of the women's Calcium value is 826 or below."
      ],
      "metadata": {
        "id": "JqEjnbEg800V"
      }
    },
    {
      "cell_type": "code",
      "source": [
        "np.percentile(data_nutrient['iron'],90)"
      ],
      "metadata": {
        "colab": {
          "base_uri": "https://localhost:8080/"
        },
        "id": "wDAh4nDj99XV",
        "outputId": "8ccce145-296f-41af-a824-bf5d8237a0d7"
      },
      "execution_count": null,
      "outputs": [
        {
          "output_type": "execute_result",
          "data": {
            "text/plain": [
              "18.029"
            ]
          },
          "metadata": {},
          "execution_count": 17
        }
      ]
    },
    {
      "cell_type": "markdown",
      "source": [
        "90% of the women have values 18.02 or less than that for Iron."
      ],
      "metadata": {
        "id": "hMp-NvfQ-Ki4"
      }
    },
    {
      "cell_type": "markdown",
      "source": [
        "# MEASURE OF CENTRAL TENDANCY\n",
        "#Mean\n",
        "#Median\n",
        "#Mode- mode is not a direct function in R and python we need to create a function for MODE using frequency function."
      ],
      "metadata": {
        "id": "e9iM4qRkTos1"
      }
    },
    {
      "cell_type": "code",
      "source": [
        "print('\\n MEAN :')\n",
        "print(data_nutrient.mean())\n",
        "\n",
        "print(\"\\n MEDIAN\")\n",
        "print(data_nutrient.median())\n",
        "\n",
        "print(\"\\n MODE\")\n",
        "print(data_nutrient.mode())\n"
      ],
      "metadata": {
        "colab": {
          "base_uri": "https://localhost:8080/"
        },
        "id": "ayuxMrCvTq90",
        "outputId": "63d3f26d-a5d1-4418-dbb5-dde9bd53a156"
      },
      "execution_count": null,
      "outputs": [
        {
          "output_type": "stream",
          "name": "stdout",
          "text": [
            "\n",
            " MEAN :\n",
            "id           464.256445\n",
            "calcium      624.049254\n",
            "iron          11.129900\n",
            "protein       65.803441\n",
            "vitamin A    839.635346\n",
            "vitamin C     78.928446\n",
            "dtype: float64\n",
            "\n",
            " MEDIAN\n",
            "id           457.000\n",
            "calcium      548.290\n",
            "iron          10.033\n",
            "protein       61.072\n",
            "vitamin A    524.030\n",
            "vitamin C     53.594\n",
            "dtype: float64\n",
            "\n",
            " MODE\n",
            "      id  calcium   iron  protein  vitamin A  vitamin C\n",
            "0      1     7.44  7.136   73.267        0.0        0.0\n",
            "1      2    13.53  8.639   89.235        NaN        NaN\n",
            "2      3    34.88  8.742      NaN        NaN        NaN\n",
            "3      4    62.59  8.773      NaN        NaN        NaN\n",
            "4      5    69.34  8.865      NaN        NaN        NaN\n",
            "..   ...      ...    ...      ...        ...        ...\n",
            "732  937  2032.65    NaN      NaN        NaN        NaN\n",
            "733  938  2072.56    NaN      NaN        NaN        NaN\n",
            "734  940  2111.83    NaN      NaN        NaN        NaN\n",
            "735  941  2465.78    NaN      NaN        NaN        NaN\n",
            "736  942  2866.44    NaN      NaN        NaN        NaN\n",
            "\n",
            "[737 rows x 6 columns]\n"
          ]
        }
      ]
    },
    {
      "cell_type": "markdown",
      "source": [
        "MEASURE OF DISPERSION -VARIANCE -How much the data ;oint is away from the mean value,STANDARD DEVIATION,RANGE"
      ],
      "metadata": {
        "id": "LjQZURDxUxfc"
      }
    },
    {
      "cell_type": "code",
      "source": [
        "print(\"\\nVariance\")\n",
        "print(data_nutrient.var())\n",
        "\n",
        "print(\"\\n Standard Deviation\")\n",
        "print(data_nutrient.std())\n",
        "\n",
        "print(\"\\n RANGE :\")\n",
        "\n",
        "print(data_nutrient.max() - data_nutrient.min())"
      ],
      "metadata": {
        "colab": {
          "base_uri": "https://localhost:8080/"
        },
        "id": "S0KDYP5MVNsc",
        "outputId": "6e49ef03-f6c1-49ba-85d6-8eb097d409cb"
      },
      "execution_count": null,
      "outputs": [
        {
          "output_type": "stream",
          "name": "stdout",
          "text": [
            "\n",
            "Variance\n",
            "id           7.515175e+04\n",
            "calcium      1.578294e+05\n",
            "iron         3.581054e+01\n",
            "protein      9.348769e+02\n",
            "vitamin A    2.668452e+06\n",
            "vitamin C    5.416264e+03\n",
            "dtype: float64\n",
            "\n",
            " Standard Deviation\n",
            "id            274.138201\n",
            "calcium       397.277540\n",
            "iron            5.984190\n",
            "protein        30.575756\n",
            "vitamin A    1633.539828\n",
            "vitamin C      73.595272\n",
            "dtype: float64\n",
            "\n",
            " RANGE :\n",
            "id             941.000\n",
            "calcium       2859.000\n",
            "iron            58.668\n",
            "protein        251.012\n",
            "vitamin A    34434.270\n",
            "vitamin C      433.339\n",
            "dtype: float64\n"
          ]
        }
      ]
    },
    {
      "cell_type": "markdown",
      "source": [
        "# Skewness - Helps in understanding how the data is symmetrically distributed.\n",
        "\n",
        "# TYPES OF SKEWNESS\n",
        "#Left or negatively skewed Mean <Median < Mode. Skewness value < 0\n",
        "# Zero or normally skewed Mean = Median = Mode. Skewness = 0\n",
        "# Right  or positively skewed. Mode > median > Mean. Skewness > 0\n",
        "\n",
        "\n",
        "\n"
      ],
      "metadata": {
        "id": "ZGCsLyM3ZaSL"
      }
    },
    {
      "cell_type": "markdown",
      "source": [
        "# KURTOSIS\n",
        "# TYPES OF KURTOSIS\n",
        "# 1.MESOKURTIC ( NORMAL) K =0\n",
        "# 2.LEPTOKURTIC"
      ],
      "metadata": {
        "id": "RutSfXgZe9gu"
      }
    },
    {
      "cell_type": "code",
      "source": [
        "#SKEWNESS\n",
        "\n",
        "print('SKEWNESS')\n",
        "print(data_nutrient.skew())"
      ],
      "metadata": {
        "id": "w6w3J2G_ZZlw",
        "colab": {
          "base_uri": "https://localhost:8080/"
        },
        "outputId": "618937f8-ada2-4f6a-fa38-06ed82408947"
      },
      "execution_count": null,
      "outputs": [
        {
          "output_type": "stream",
          "name": "stdout",
          "text": [
            "\n",
            "\n",
            "id            0.042497\n",
            "calcium       1.314639\n",
            "iron          2.298134\n",
            "protein       1.135245\n",
            "vitamin A    13.408218\n",
            "vitamin C     1.600387\n",
            "dtype: float64\n"
          ]
        }
      ]
    },
    {
      "cell_type": "markdown",
      "source": [
        "id skenrss value = o , so mormally distributed\n",
        "Vitamin A - righly skewed with majority of them are jigh values and few low values.\n",
        "naerly uniform\n",
        "hifhg skew extremely high outliers and extremely low values  ;"
      ],
      "metadata": {
        "id": "1Ss5L_chjcoC"
      }
    },
    {
      "cell_type": "code",
      "source": [
        "#KURTOSIS\n",
        "\n",
        "print('KURTOSIS:')\n",
        "print(data_nutrient.kurtosis())\n"
      ],
      "metadata": {
        "colab": {
          "base_uri": "https://localhost:8080/"
        },
        "id": "pj7OUBw8iQJb",
        "outputId": "4924b6db-7934-46c8-abc9-f4b17d8e6822"
      },
      "execution_count": null,
      "outputs": [
        {
          "output_type": "stream",
          "name": "stdout",
          "text": [
            "KURTOSIS:\n",
            "id            -1.207343\n",
            "calcium        2.610995\n",
            "iron          11.540804\n",
            "protein        3.147128\n",
            "vitamin A    250.797823\n",
            "vitamin C      2.726988\n",
            "dtype: float64\n"
          ]
        }
      ]
    },
    {
      "cell_type": "markdown",
      "source": [
        "standard form k is compared with 3 rather than 0\n",
        "\n",
        "\n",
        "# id is platykurtic K< 3 with  high outliers ,Range wil be high\n",
        "# Calcium Leptokurtic k > 3 with low outliers   , peak is very high with high values ,chances of outlers is low for Iron nutrient.\n",
        "\n",
        "The conclusion  based on the kurtosis value is the Iron and Vitamin A is the highest intake done by the women in the nutrient dataset.\n",
        "\n",
        "\n",
        "\n"
      ],
      "metadata": {
        "id": "k3VXrW2PkRki"
      }
    },
    {
      "cell_type": "markdown",
      "source": [
        "#GRAPH ANALYSIS USING BAR CHART"
      ],
      "metadata": {
        "id": "EJj89mP1pM8e"
      }
    },
    {
      "cell_type": "code",
      "source": [
        "#GRAPH ANALYSIS USING BAR CHART\n",
        "plt.figure(figsize=(6,4))\n",
        "plt.bar(data_nutrient['id'],data_nutrient['calcium'],color = 'red',label='Calcium content')\n",
        "plt.xlabel('ID')\n",
        "plt.ylabel('Calcium')\n",
        "plt.title('Calcium intake by ID')\n",
        "plt.legend()\n",
        "plt.show()"
      ],
      "metadata": {
        "colab": {
          "base_uri": "https://localhost:8080/",
          "height": 410
        },
        "id": "SvmVWHu-ndop",
        "outputId": "ea24c977-2504-4790-895b-e9fcdccfff73"
      },
      "execution_count": null,
      "outputs": [
        {
          "output_type": "display_data",
          "data": {
            "text/plain": [
              "<Figure size 600x400 with 1 Axes>"
            ],
            "image/png": "[encoded data removed]"
          },
          "metadata": {}
        }
      ]
    },
    {
      "cell_type": "markdown",
      "source": [
        "#GRAPH ANALYSIS USING HISTOGRAM\n",
        "\n",
        "\n",
        "\n",
        "\n"
      ],
      "metadata": {
        "id": "C4vD4wfspGki"
      }
    },
    {
      "cell_type": "code",
      "source": [
        "plt.figure(figsize=(6,4))\n",
        "plt.hist(data_nutrient['calcium'],bins = 10,color = 'yellow',edgecolor = 'red')\n",
        "plt.xlabel('ID')\n",
        "plt.ylabel(' Count of womenn Calcium intake')\n",
        "plt.title('Calcium values')\n",
        "plt.legend()\n",
        "plt.show()"
      ],
      "metadata": {
        "colab": {
          "base_uri": "https://localhost:8080/",
          "height": 448
        },
        "id": "iiRKVBALpYAf",
        "outputId": "b23f6362-1e0a-4adb-85ed-762d7e251999"
      },
      "execution_count": null,
      "outputs": [
        {
          "output_type": "stream",
          "name": "stderr",
          "text": [
            "WARNING:matplotlib.legend:No artists with labels found to put in legend.  Note that artists whose label start with an underscore are ignored when legend() is called with no argument.\n"
          ]
        },
        {
          "output_type": "display_data",
          "data": {
            "text/plain": [
              "<Figure size 600x400 with 1 Axes>"
            ],
            "image/png": "[encoded data removed]"
          },
          "metadata": {}
        }
      ]
    },
    {
      "cell_type": "code",
      "source": [
        "print(data_nutrient['calcium'].min())\n",
        "print(data_nutrient['calcium'].max())"
      ],
      "metadata": {
        "colab": {
          "base_uri": "https://localhost:8080/"
        },
        "id": "tswGAG40rR7v",
        "outputId": "97131313-83cc-4c55-907c-4cb1ae435ea1"
      },
      "execution_count": null,
      "outputs": [
        {
          "output_type": "stream",
          "name": "stdout",
          "text": [
            "7.44\n",
            "2866.44\n"
          ]
        }
      ]
    },
    {
      "cell_type": "code",
      "source": [
        "!pip install scipy\n",
        "from scipy.stats import ttest_ind, chi2_contingency,f_oneway"
      ],
      "metadata": {
        "id": "3gGM4bwSraqC",
        "colab": {
          "base_uri": "https://localhost:8080/"
        },
        "outputId": "12475865-7009-4219-f42c-e29be4d01df6"
      },
      "execution_count": null,
      "outputs": [
        {
          "output_type": "stream",
          "name": "stdout",
          "text": [
            "Requirement already satisfied: scipy in /usr/local/lib/python3.10/dist-packages (1.11.4)\n",
            "Requirement already satisfied: numpy<1.28.0,>=1.21.6 in /usr/local/lib/python3.10/dist-packages (from scipy) (1.25.2)\n"
          ]
        }
      ]
    },
    {
      "cell_type": "code",
      "source": [],
      "metadata": {
        "id": "lWeGJPCcHvSb"
      },
      "execution_count": null,
      "outputs": []
    }
  ]
}